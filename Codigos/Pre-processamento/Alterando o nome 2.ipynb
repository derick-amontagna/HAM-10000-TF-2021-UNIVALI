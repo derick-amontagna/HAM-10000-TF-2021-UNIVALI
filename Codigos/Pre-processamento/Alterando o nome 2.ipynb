{
 "cells": [
  {
   "cell_type": "code",
   "execution_count": 4,
   "id": "genetic-waterproof",
   "metadata": {},
   "outputs": [],
   "source": [
    "classes = ['akiec', 'bcc', 'bkl', 'df', 'mel', 'nv', 'vasc']\n",
    "for n in range(1, 6):\n",
    "    for classe in classes:\n",
    "        import os\n",
    "        os.getcwd()\n",
    "        collection = 'C:/Users/doxda/Downloads/Dados-TCC-Melo/Dados/Folds/fold_'+str(n)+'/train_dir/'+str(classe)\n",
    "        for i, filename in enumerate(os.listdir(collection)):\n",
    "            i += 1\n",
    "            os.rename('C:/Users/doxda/Downloads/Dados-TCC-Melo/Dados/Folds/fold_'+str(n)+'/train_dir/'+str(classe)+'/'+ filename, \n",
    "                      'C:/Users/doxda/Downloads/Dados-TCC-Melo/Dados/Folds/fold_'+str(n)+'/train_dir/'+str(classe)+'/'+str(classe)+'_'+str(i)+'.jpg')"
   ]
  },
  {
   "cell_type": "code",
   "execution_count": 5,
   "id": "powerful-advancement",
   "metadata": {},
   "outputs": [],
   "source": [
    "classes = ['akiec', 'bcc', 'bkl', 'df', 'mel', 'nv', 'vasc']\n",
    "for n in range(1, 6):\n",
    "    for classe in classes:\n",
    "        import os\n",
    "        os.getcwd()\n",
    "        collection = 'C:/Users/doxda/Downloads/Dados-TCC-Melo/Dados/Folds/fold_'+str(n)+'/val_dir/'+str(classe)\n",
    "        for i, filename in enumerate(os.listdir(collection)):\n",
    "            i += 1\n",
    "            os.rename('C:/Users/doxda/Downloads/Dados-TCC-Melo/Dados/Folds/fold_'+str(n)+'/val_dir/'+str(classe)+'/'+ filename, \n",
    "                      'C:/Users/doxda/Downloads/Dados-TCC-Melo/Dados/Folds/fold_'+str(n)+'/val_dir/'+str(classe)+'/'+str(classe)+'_'+str(i)+'.jpg')"
   ]
  },
  {
   "cell_type": "code",
   "execution_count": null,
   "id": "neither-singles",
   "metadata": {},
   "outputs": [],
   "source": []
  }
 ],
 "metadata": {
  "kernelspec": {
   "display_name": "Python 3",
   "language": "python",
   "name": "python3"
  },
  "language_info": {
   "codemirror_mode": {
    "name": "ipython",
    "version": 3
   },
   "file_extension": ".py",
   "mimetype": "text/x-python",
   "name": "python",
   "nbconvert_exporter": "python",
   "pygments_lexer": "ipython3",
   "version": "3.8.5"
  }
 },
 "nbformat": 4,
 "nbformat_minor": 5
}
