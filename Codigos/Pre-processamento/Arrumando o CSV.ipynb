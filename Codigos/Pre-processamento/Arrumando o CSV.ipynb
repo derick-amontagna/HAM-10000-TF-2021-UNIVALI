{
 "cells": [
  {
   "cell_type": "code",
   "execution_count": 1,
   "metadata": {
    "executionInfo": {
     "elapsed": 1031,
     "status": "ok",
     "timestamp": 1608661588140,
     "user": {
      "displayName": "Derick Abreu Montagna",
      "photoUrl": "https://lh3.googleusercontent.com/a-/AOh14GiZtmA5z9Jc_2HmDIJI7YB80s22LyWv5aJ8r8fLTg=s64",
      "userId": "07365981113946664179"
     },
     "user_tz": 180
    },
    "id": "vRHiUI-u9r0e"
   },
   "outputs": [],
   "source": [
    "import pandas as pd\r\n",
    "import numpy as np"
   ]
  },
  {
   "cell_type": "code",
   "execution_count": null,
   "metadata": {
    "id": "zmLgevjc93Yv"
   },
   "outputs": [],
   "source": [
    "labels = pd.read_csv('/content/drive/MyDrive/TCC-Melo/ISIC2018_Task3_Training_GroundTruth/ISIC2018_Task3_Training_GroundTruth.csv')"
   ]
  },
  {
   "cell_type": "code",
   "execution_count": null,
   "metadata": {
    "colab": {
     "base_uri": "https://localhost:8080/",
     "height": 206
    },
    "executionInfo": {
     "elapsed": 1858,
     "status": "ok",
     "timestamp": 1608649309708,
     "user": {
      "displayName": "Derick Abreu Montagna",
      "photoUrl": "https://lh3.googleusercontent.com/a-/AOh14GiZtmA5z9Jc_2HmDIJI7YB80s22LyWv5aJ8r8fLTg=s64",
      "userId": "07365981113946664179"
     },
     "user_tz": 180
    },
    "id": "sDqmejdH96Ml",
    "outputId": "6238bd37-f1be-45fc-b77c-93e5d1c459d3"
   },
   "outputs": [
    {
     "data": {
      "text/html": [
       "<div>\n",
       "<style scoped>\n",
       "    .dataframe tbody tr th:only-of-type {\n",
       "        vertical-align: middle;\n",
       "    }\n",
       "\n",
       "    .dataframe tbody tr th {\n",
       "        vertical-align: top;\n",
       "    }\n",
       "\n",
       "    .dataframe thead th {\n",
       "        text-align: right;\n",
       "    }\n",
       "</style>\n",
       "<table border=\"1\" class=\"dataframe\">\n",
       "  <thead>\n",
       "    <tr style=\"text-align: right;\">\n",
       "      <th></th>\n",
       "      <th>image</th>\n",
       "      <th>MEL</th>\n",
       "      <th>NV</th>\n",
       "      <th>BCC</th>\n",
       "      <th>AKIEC</th>\n",
       "      <th>BKL</th>\n",
       "      <th>DF</th>\n",
       "      <th>VASC</th>\n",
       "    </tr>\n",
       "  </thead>\n",
       "  <tbody>\n",
       "    <tr>\n",
       "      <th>0</th>\n",
       "      <td>ISIC_0024306</td>\n",
       "      <td>0.0</td>\n",
       "      <td>1.0</td>\n",
       "      <td>0.0</td>\n",
       "      <td>0.0</td>\n",
       "      <td>0.0</td>\n",
       "      <td>0.0</td>\n",
       "      <td>0.0</td>\n",
       "    </tr>\n",
       "    <tr>\n",
       "      <th>1</th>\n",
       "      <td>ISIC_0024307</td>\n",
       "      <td>0.0</td>\n",
       "      <td>1.0</td>\n",
       "      <td>0.0</td>\n",
       "      <td>0.0</td>\n",
       "      <td>0.0</td>\n",
       "      <td>0.0</td>\n",
       "      <td>0.0</td>\n",
       "    </tr>\n",
       "    <tr>\n",
       "      <th>2</th>\n",
       "      <td>ISIC_0024308</td>\n",
       "      <td>0.0</td>\n",
       "      <td>1.0</td>\n",
       "      <td>0.0</td>\n",
       "      <td>0.0</td>\n",
       "      <td>0.0</td>\n",
       "      <td>0.0</td>\n",
       "      <td>0.0</td>\n",
       "    </tr>\n",
       "    <tr>\n",
       "      <th>3</th>\n",
       "      <td>ISIC_0024309</td>\n",
       "      <td>0.0</td>\n",
       "      <td>1.0</td>\n",
       "      <td>0.0</td>\n",
       "      <td>0.0</td>\n",
       "      <td>0.0</td>\n",
       "      <td>0.0</td>\n",
       "      <td>0.0</td>\n",
       "    </tr>\n",
       "    <tr>\n",
       "      <th>4</th>\n",
       "      <td>ISIC_0024310</td>\n",
       "      <td>1.0</td>\n",
       "      <td>0.0</td>\n",
       "      <td>0.0</td>\n",
       "      <td>0.0</td>\n",
       "      <td>0.0</td>\n",
       "      <td>0.0</td>\n",
       "      <td>0.0</td>\n",
       "    </tr>\n",
       "  </tbody>\n",
       "</table>\n",
       "</div>"
      ],
      "text/plain": [
       "          image  MEL   NV  BCC  AKIEC  BKL   DF  VASC\n",
       "0  ISIC_0024306  0.0  1.0  0.0    0.0  0.0  0.0   0.0\n",
       "1  ISIC_0024307  0.0  1.0  0.0    0.0  0.0  0.0   0.0\n",
       "2  ISIC_0024308  0.0  1.0  0.0    0.0  0.0  0.0   0.0\n",
       "3  ISIC_0024309  0.0  1.0  0.0    0.0  0.0  0.0   0.0\n",
       "4  ISIC_0024310  1.0  0.0  0.0    0.0  0.0  0.0   0.0"
      ]
     },
     "execution_count": 3,
     "metadata": {
      "tags": []
     },
     "output_type": "execute_result"
    }
   ],
   "source": [
    "labels.head()"
   ]
  },
  {
   "cell_type": "code",
   "execution_count": null,
   "metadata": {
    "id": "AfEDCMmX-BPp"
   },
   "outputs": [],
   "source": [
    "def append_ext(fn):\r\n",
    "    return fn+\".jpg\""
   ]
  },
  {
   "cell_type": "code",
   "execution_count": null,
   "metadata": {
    "id": "0AFUs279-Bxk"
   },
   "outputs": [],
   "source": [
    "labels['image']=labels['image'].apply(append_ext)"
   ]
  },
  {
   "cell_type": "code",
   "execution_count": null,
   "metadata": {
    "colab": {
     "base_uri": "https://localhost:8080/",
     "height": 206
    },
    "executionInfo": {
     "elapsed": 480,
     "status": "ok",
     "timestamp": 1608649310079,
     "user": {
      "displayName": "Derick Abreu Montagna",
      "photoUrl": "https://lh3.googleusercontent.com/a-/AOh14GiZtmA5z9Jc_2HmDIJI7YB80s22LyWv5aJ8r8fLTg=s64",
      "userId": "07365981113946664179"
     },
     "user_tz": 180
    },
    "id": "vj2_srAE-CoV",
    "outputId": "c4dcb66e-eb8f-4d2a-a9ed-e5660d67ff61"
   },
   "outputs": [
    {
     "data": {
      "text/html": [
       "<div>\n",
       "<style scoped>\n",
       "    .dataframe tbody tr th:only-of-type {\n",
       "        vertical-align: middle;\n",
       "    }\n",
       "\n",
       "    .dataframe tbody tr th {\n",
       "        vertical-align: top;\n",
       "    }\n",
       "\n",
       "    .dataframe thead th {\n",
       "        text-align: right;\n",
       "    }\n",
       "</style>\n",
       "<table border=\"1\" class=\"dataframe\">\n",
       "  <thead>\n",
       "    <tr style=\"text-align: right;\">\n",
       "      <th></th>\n",
       "      <th>image</th>\n",
       "      <th>MEL</th>\n",
       "      <th>NV</th>\n",
       "      <th>BCC</th>\n",
       "      <th>AKIEC</th>\n",
       "      <th>BKL</th>\n",
       "      <th>DF</th>\n",
       "      <th>VASC</th>\n",
       "    </tr>\n",
       "  </thead>\n",
       "  <tbody>\n",
       "    <tr>\n",
       "      <th>0</th>\n",
       "      <td>ISIC_0024306.jpg</td>\n",
       "      <td>0.0</td>\n",
       "      <td>1.0</td>\n",
       "      <td>0.0</td>\n",
       "      <td>0.0</td>\n",
       "      <td>0.0</td>\n",
       "      <td>0.0</td>\n",
       "      <td>0.0</td>\n",
       "    </tr>\n",
       "    <tr>\n",
       "      <th>1</th>\n",
       "      <td>ISIC_0024307.jpg</td>\n",
       "      <td>0.0</td>\n",
       "      <td>1.0</td>\n",
       "      <td>0.0</td>\n",
       "      <td>0.0</td>\n",
       "      <td>0.0</td>\n",
       "      <td>0.0</td>\n",
       "      <td>0.0</td>\n",
       "    </tr>\n",
       "    <tr>\n",
       "      <th>2</th>\n",
       "      <td>ISIC_0024308.jpg</td>\n",
       "      <td>0.0</td>\n",
       "      <td>1.0</td>\n",
       "      <td>0.0</td>\n",
       "      <td>0.0</td>\n",
       "      <td>0.0</td>\n",
       "      <td>0.0</td>\n",
       "      <td>0.0</td>\n",
       "    </tr>\n",
       "    <tr>\n",
       "      <th>3</th>\n",
       "      <td>ISIC_0024309.jpg</td>\n",
       "      <td>0.0</td>\n",
       "      <td>1.0</td>\n",
       "      <td>0.0</td>\n",
       "      <td>0.0</td>\n",
       "      <td>0.0</td>\n",
       "      <td>0.0</td>\n",
       "      <td>0.0</td>\n",
       "    </tr>\n",
       "    <tr>\n",
       "      <th>4</th>\n",
       "      <td>ISIC_0024310.jpg</td>\n",
       "      <td>1.0</td>\n",
       "      <td>0.0</td>\n",
       "      <td>0.0</td>\n",
       "      <td>0.0</td>\n",
       "      <td>0.0</td>\n",
       "      <td>0.0</td>\n",
       "      <td>0.0</td>\n",
       "    </tr>\n",
       "  </tbody>\n",
       "</table>\n",
       "</div>"
      ],
      "text/plain": [
       "              image  MEL   NV  BCC  AKIEC  BKL   DF  VASC\n",
       "0  ISIC_0024306.jpg  0.0  1.0  0.0    0.0  0.0  0.0   0.0\n",
       "1  ISIC_0024307.jpg  0.0  1.0  0.0    0.0  0.0  0.0   0.0\n",
       "2  ISIC_0024308.jpg  0.0  1.0  0.0    0.0  0.0  0.0   0.0\n",
       "3  ISIC_0024309.jpg  0.0  1.0  0.0    0.0  0.0  0.0   0.0\n",
       "4  ISIC_0024310.jpg  1.0  0.0  0.0    0.0  0.0  0.0   0.0"
      ]
     },
     "execution_count": 6,
     "metadata": {
      "tags": []
     },
     "output_type": "execute_result"
    }
   ],
   "source": [
    "labels.head()"
   ]
  },
  {
   "cell_type": "code",
   "execution_count": null,
   "metadata": {
    "colab": {
     "base_uri": "https://localhost:8080/"
    },
    "executionInfo": {
     "elapsed": 830,
     "status": "ok",
     "timestamp": 1608649322256,
     "user": {
      "displayName": "Derick Abreu Montagna",
      "photoUrl": "https://lh3.googleusercontent.com/a-/AOh14GiZtmA5z9Jc_2HmDIJI7YB80s22LyWv5aJ8r8fLTg=s64",
      "userId": "07365981113946664179"
     },
     "user_tz": 180
    },
    "id": "y_D0MsCB-KbY",
    "outputId": "6757be5e-0e16-4412-ec1b-391fc32fd1aa"
   },
   "outputs": [
    {
     "data": {
      "text/plain": [
       "Index(['image', 'MEL', 'NV', 'BCC', 'AKIEC', 'BKL', 'DF', 'VASC'], dtype='object')"
      ]
     },
     "execution_count": 7,
     "metadata": {
      "tags": []
     },
     "output_type": "execute_result"
    }
   ],
   "source": [
    "labels.columns"
   ]
  },
  {
   "cell_type": "code",
   "execution_count": null,
   "metadata": {
    "id": "IC4QKEyv-L8k"
   },
   "outputs": [],
   "source": [
    "def createLabelEncoder(MEL, NV, BCC, AKIEC, BKL, DF, VASC):\r\n",
    "  if MEL == 1 and ( NV == BCC == AKIEC == BKL == DF == VASC == 0):\r\n",
    "    return 'MEL'\r\n",
    "  elif NV == 1 and ( MEL == BCC == AKIEC == BKL == DF == VASC == 0):\r\n",
    "    return 'NV'\r\n",
    "  elif BCC == 1 and ( MEL == NV == AKIEC == BKL == DF == VASC == 0):\r\n",
    "    return 'BCC'\r\n",
    "  elif AKIEC == 1 and ( MEL == NV == BCC == BKL == DF == VASC == 0):\r\n",
    "    return 'AKIEC'\r\n",
    "  elif BKL == 1 and ( MEL == NV == BCC == AKIEC == DF == VASC == 0):\r\n",
    "    return 'BKL'\r\n",
    "  elif DF == 1 and ( MEL == NV == BCC == AKIEC == BKL == VASC == 0):\r\n",
    "    return 'DF'\r\n",
    "  elif VASC == 1 and ( MEL == NV == BCC == AKIEC == BKL == DF == 0):\r\n",
    "    return 'VASC'"
   ]
  },
  {
   "cell_type": "code",
   "execution_count": null,
   "metadata": {
    "id": "9SjJRh_2__Gd"
   },
   "outputs": [],
   "source": [
    "labels['Targets'] = labels.apply(lambda x: createLabelEncoder(x['MEL'],x['NV'], x['BCC'], x['AKIEC'], x['BKL'], x['DF'], x['VASC']), axis=1)"
   ]
  },
  {
   "cell_type": "code",
   "execution_count": null,
   "metadata": {
    "colab": {
     "base_uri": "https://localhost:8080/",
     "height": 424
    },
    "executionInfo": {
     "elapsed": 980,
     "status": "ok",
     "timestamp": 1608650914158,
     "user": {
      "displayName": "Derick Abreu Montagna",
      "photoUrl": "https://lh3.googleusercontent.com/a-/AOh14GiZtmA5z9Jc_2HmDIJI7YB80s22LyWv5aJ8r8fLTg=s64",
      "userId": "07365981113946664179"
     },
     "user_tz": 180
    },
    "id": "sbr_hElRAMRl",
    "outputId": "0626eea7-1982-431c-a849-240e28798aff"
   },
   "outputs": [
    {
     "data": {
      "text/html": [
       "<div>\n",
       "<style scoped>\n",
       "    .dataframe tbody tr th:only-of-type {\n",
       "        vertical-align: middle;\n",
       "    }\n",
       "\n",
       "    .dataframe tbody tr th {\n",
       "        vertical-align: top;\n",
       "    }\n",
       "\n",
       "    .dataframe thead th {\n",
       "        text-align: right;\n",
       "    }\n",
       "</style>\n",
       "<table border=\"1\" class=\"dataframe\">\n",
       "  <thead>\n",
       "    <tr style=\"text-align: right;\">\n",
       "      <th></th>\n",
       "      <th>image</th>\n",
       "      <th>MEL</th>\n",
       "      <th>NV</th>\n",
       "      <th>BCC</th>\n",
       "      <th>AKIEC</th>\n",
       "      <th>BKL</th>\n",
       "      <th>DF</th>\n",
       "      <th>VASC</th>\n",
       "      <th>Targets</th>\n",
       "    </tr>\n",
       "  </thead>\n",
       "  <tbody>\n",
       "    <tr>\n",
       "      <th>0</th>\n",
       "      <td>ISIC_0024306.jpg</td>\n",
       "      <td>0.0</td>\n",
       "      <td>1.0</td>\n",
       "      <td>0.0</td>\n",
       "      <td>0.0</td>\n",
       "      <td>0.0</td>\n",
       "      <td>0.0</td>\n",
       "      <td>0.0</td>\n",
       "      <td>NV</td>\n",
       "    </tr>\n",
       "    <tr>\n",
       "      <th>1</th>\n",
       "      <td>ISIC_0024307.jpg</td>\n",
       "      <td>0.0</td>\n",
       "      <td>1.0</td>\n",
       "      <td>0.0</td>\n",
       "      <td>0.0</td>\n",
       "      <td>0.0</td>\n",
       "      <td>0.0</td>\n",
       "      <td>0.0</td>\n",
       "      <td>NV</td>\n",
       "    </tr>\n",
       "    <tr>\n",
       "      <th>2</th>\n",
       "      <td>ISIC_0024308.jpg</td>\n",
       "      <td>0.0</td>\n",
       "      <td>1.0</td>\n",
       "      <td>0.0</td>\n",
       "      <td>0.0</td>\n",
       "      <td>0.0</td>\n",
       "      <td>0.0</td>\n",
       "      <td>0.0</td>\n",
       "      <td>NV</td>\n",
       "    </tr>\n",
       "    <tr>\n",
       "      <th>3</th>\n",
       "      <td>ISIC_0024309.jpg</td>\n",
       "      <td>0.0</td>\n",
       "      <td>1.0</td>\n",
       "      <td>0.0</td>\n",
       "      <td>0.0</td>\n",
       "      <td>0.0</td>\n",
       "      <td>0.0</td>\n",
       "      <td>0.0</td>\n",
       "      <td>NV</td>\n",
       "    </tr>\n",
       "    <tr>\n",
       "      <th>4</th>\n",
       "      <td>ISIC_0024310.jpg</td>\n",
       "      <td>1.0</td>\n",
       "      <td>0.0</td>\n",
       "      <td>0.0</td>\n",
       "      <td>0.0</td>\n",
       "      <td>0.0</td>\n",
       "      <td>0.0</td>\n",
       "      <td>0.0</td>\n",
       "      <td>MEL</td>\n",
       "    </tr>\n",
       "    <tr>\n",
       "      <th>...</th>\n",
       "      <td>...</td>\n",
       "      <td>...</td>\n",
       "      <td>...</td>\n",
       "      <td>...</td>\n",
       "      <td>...</td>\n",
       "      <td>...</td>\n",
       "      <td>...</td>\n",
       "      <td>...</td>\n",
       "      <td>...</td>\n",
       "    </tr>\n",
       "    <tr>\n",
       "      <th>95</th>\n",
       "      <td>ISIC_0024401.jpg</td>\n",
       "      <td>0.0</td>\n",
       "      <td>1.0</td>\n",
       "      <td>0.0</td>\n",
       "      <td>0.0</td>\n",
       "      <td>0.0</td>\n",
       "      <td>0.0</td>\n",
       "      <td>0.0</td>\n",
       "      <td>NV</td>\n",
       "    </tr>\n",
       "    <tr>\n",
       "      <th>96</th>\n",
       "      <td>ISIC_0024402.jpg</td>\n",
       "      <td>0.0</td>\n",
       "      <td>0.0</td>\n",
       "      <td>0.0</td>\n",
       "      <td>0.0</td>\n",
       "      <td>0.0</td>\n",
       "      <td>0.0</td>\n",
       "      <td>1.0</td>\n",
       "      <td>VASC</td>\n",
       "    </tr>\n",
       "    <tr>\n",
       "      <th>97</th>\n",
       "      <td>ISIC_0024403.jpg</td>\n",
       "      <td>0.0</td>\n",
       "      <td>0.0</td>\n",
       "      <td>1.0</td>\n",
       "      <td>0.0</td>\n",
       "      <td>0.0</td>\n",
       "      <td>0.0</td>\n",
       "      <td>0.0</td>\n",
       "      <td>BCC</td>\n",
       "    </tr>\n",
       "    <tr>\n",
       "      <th>98</th>\n",
       "      <td>ISIC_0024404.jpg</td>\n",
       "      <td>0.0</td>\n",
       "      <td>1.0</td>\n",
       "      <td>0.0</td>\n",
       "      <td>0.0</td>\n",
       "      <td>0.0</td>\n",
       "      <td>0.0</td>\n",
       "      <td>0.0</td>\n",
       "      <td>NV</td>\n",
       "    </tr>\n",
       "    <tr>\n",
       "      <th>99</th>\n",
       "      <td>ISIC_0024405.jpg</td>\n",
       "      <td>0.0</td>\n",
       "      <td>1.0</td>\n",
       "      <td>0.0</td>\n",
       "      <td>0.0</td>\n",
       "      <td>0.0</td>\n",
       "      <td>0.0</td>\n",
       "      <td>0.0</td>\n",
       "      <td>NV</td>\n",
       "    </tr>\n",
       "  </tbody>\n",
       "</table>\n",
       "<p>100 rows × 9 columns</p>\n",
       "</div>"
      ],
      "text/plain": [
       "               image  MEL   NV  BCC  AKIEC  BKL   DF  VASC Targets\n",
       "0   ISIC_0024306.jpg  0.0  1.0  0.0    0.0  0.0  0.0   0.0      NV\n",
       "1   ISIC_0024307.jpg  0.0  1.0  0.0    0.0  0.0  0.0   0.0      NV\n",
       "2   ISIC_0024308.jpg  0.0  1.0  0.0    0.0  0.0  0.0   0.0      NV\n",
       "3   ISIC_0024309.jpg  0.0  1.0  0.0    0.0  0.0  0.0   0.0      NV\n",
       "4   ISIC_0024310.jpg  1.0  0.0  0.0    0.0  0.0  0.0   0.0     MEL\n",
       "..               ...  ...  ...  ...    ...  ...  ...   ...     ...\n",
       "95  ISIC_0024401.jpg  0.0  1.0  0.0    0.0  0.0  0.0   0.0      NV\n",
       "96  ISIC_0024402.jpg  0.0  0.0  0.0    0.0  0.0  0.0   1.0    VASC\n",
       "97  ISIC_0024403.jpg  0.0  0.0  1.0    0.0  0.0  0.0   0.0     BCC\n",
       "98  ISIC_0024404.jpg  0.0  1.0  0.0    0.0  0.0  0.0   0.0      NV\n",
       "99  ISIC_0024405.jpg  0.0  1.0  0.0    0.0  0.0  0.0   0.0      NV\n",
       "\n",
       "[100 rows x 9 columns]"
      ]
     },
     "execution_count": 29,
     "metadata": {
      "tags": []
     },
     "output_type": "execute_result"
    }
   ],
   "source": [
    "labels.head(100)"
   ]
  },
  {
   "cell_type": "code",
   "execution_count": null,
   "metadata": {
    "id": "AO65vnduB4lx"
   },
   "outputs": [],
   "source": [
    "labels.to_csv('/content/drive/MyDrive/TCC-Melo/ISIC2018_Task3_Training_GroundTruth/ISIC2018_Task3_Training_GroundTruth_Modified.csv', encoding='utf-8', index=False)"
   ]
  },
  {
   "cell_type": "code",
   "execution_count": 3,
   "metadata": {
    "executionInfo": {
     "elapsed": 2704,
     "status": "ok",
     "timestamp": 1608661595205,
     "user": {
      "displayName": "Derick Abreu Montagna",
      "photoUrl": "https://lh3.googleusercontent.com/a-/AOh14GiZtmA5z9Jc_2HmDIJI7YB80s22LyWv5aJ8r8fLTg=s64",
      "userId": "07365981113946664179"
     },
     "user_tz": 180
    },
    "id": "1iQ8-96xCiVU"
   },
   "outputs": [],
   "source": [
    "import tensorflow as tf\r\n",
    "from keras.preprocessing.image import ImageDataGenerator\r\n"
   ]
  },
  {
   "cell_type": "code",
   "execution_count": null,
   "metadata": {
    "id": "bzcO9H6kDGf6"
   },
   "outputs": [],
   "source": [
    "classes = ['MEL', 'NV', 'BCC', 'AKIEC', 'BKL', 'DF', 'VASC']"
   ]
  },
  {
   "cell_type": "code",
   "execution_count": null,
   "metadata": {
    "id": "-Us-6OwLCWn3"
   },
   "outputs": [],
   "source": [
    "_datagen = ImageDataGenerator(rescale=1./255,\r\n",
    "                                   shear_range=0.2,\r\n",
    "                                   zoom_range = 0.2,\r\n",
    "                                   horizontal_flip = True)"
   ]
  },
  {
   "cell_type": "code",
   "execution_count": null,
   "metadata": {
    "colab": {
     "base_uri": "https://localhost:8080/"
    },
    "executionInfo": {
     "elapsed": 2902,
     "status": "ok",
     "timestamp": 1608650650687,
     "user": {
      "displayName": "Derick Abreu Montagna",
      "photoUrl": "https://lh3.googleusercontent.com/a-/AOh14GiZtmA5z9Jc_2HmDIJI7YB80s22LyWv5aJ8r8fLTg=s64",
      "userId": "07365981113946664179"
     },
     "user_tz": 180
    },
    "id": "h6mJwuTECmI8",
    "outputId": "c82954bc-67b4-47a2-8b9d-566e407b266b"
   },
   "outputs": [
    {
     "name": "stdout",
     "output_type": "stream",
     "text": [
      "Found 10015 validated image filenames belonging to 7 classes.\n"
     ]
    }
   ],
   "source": [
    "train_generator = _datagen.flow_from_dataframe(dataframe=labels,\r\n",
    "                                               directory='/content/drive/MyDrive/TCC-Melo/ISIC2018_Task3_Training_Input',\r\n",
    "                                               x_col='image',\r\n",
    "                                               y_col='Targets',\r\n",
    "                                               classes = classes,\r\n",
    "                                               batch_size=36,\r\n",
    "                                               seed=42,\r\n",
    "                                               shuffle=True,\r\n",
    "                                               target_size=(224, 224),\r\n",
    "                                               class_mode=\"categorical\")"
   ]
  },
  {
   "cell_type": "code",
   "execution_count": null,
   "metadata": {
    "colab": {
     "base_uri": "https://localhost:8080/"
    },
    "executionInfo": {
     "elapsed": 746,
     "status": "ok",
     "timestamp": 1608650660738,
     "user": {
      "displayName": "Derick Abreu Montagna",
      "photoUrl": "https://lh3.googleusercontent.com/a-/AOh14GiZtmA5z9Jc_2HmDIJI7YB80s22LyWv5aJ8r8fLTg=s64",
      "userId": "07365981113946664179"
     },
     "user_tz": 180
    },
    "id": "ywWzxokKDP6Q",
    "outputId": "09233e73-0b50-4d4a-bd90-aa988462c336"
   },
   "outputs": [
    {
     "data": {
      "text/plain": [
       "{'AKIEC': 0, 'BCC': 1, 'BKL': 2, 'DF': 3, 'MEL': 4, 'NV': 5, 'VASC': 6}"
      ]
     },
     "execution_count": 25,
     "metadata": {
      "tags": []
     },
     "output_type": "execute_result"
    }
   ],
   "source": [
    "train_generator.class_indices"
   ]
  },
  {
   "cell_type": "code",
   "execution_count": 4,
   "metadata": {
    "executionInfo": {
     "elapsed": 1557,
     "status": "ok",
     "timestamp": 1608661606880,
     "user": {
      "displayName": "Derick Abreu Montagna",
      "photoUrl": "https://lh3.googleusercontent.com/a-/AOh14GiZtmA5z9Jc_2HmDIJI7YB80s22LyWv5aJ8r8fLTg=s64",
      "userId": "07365981113946664179"
     },
     "user_tz": 180
    },
    "id": "LbQxVhOoDRgV"
   },
   "outputs": [],
   "source": [
    "labels_target = pd.read_csv('/content/drive/MyDrive/TCC-Melo/ISIC2018_Task3_Training_GroundTruth/ISIC2018_Task3_Training_GroundTruth_Modified.csv')"
   ]
  },
  {
   "cell_type": "code",
   "execution_count": 5,
   "metadata": {
    "colab": {
     "base_uri": "https://localhost:8080/",
     "height": 206
    },
    "executionInfo": {
     "elapsed": 1077,
     "status": "ok",
     "timestamp": 1608661612325,
     "user": {
      "displayName": "Derick Abreu Montagna",
      "photoUrl": "https://lh3.googleusercontent.com/a-/AOh14GiZtmA5z9Jc_2HmDIJI7YB80s22LyWv5aJ8r8fLTg=s64",
      "userId": "07365981113946664179"
     },
     "user_tz": 180
    },
    "id": "6XQUQHVzE1zK",
    "outputId": "683f5455-36fe-4dd5-dbb7-f02b6ec74968"
   },
   "outputs": [
    {
     "data": {
      "text/html": [
       "<div>\n",
       "<style scoped>\n",
       "    .dataframe tbody tr th:only-of-type {\n",
       "        vertical-align: middle;\n",
       "    }\n",
       "\n",
       "    .dataframe tbody tr th {\n",
       "        vertical-align: top;\n",
       "    }\n",
       "\n",
       "    .dataframe thead th {\n",
       "        text-align: right;\n",
       "    }\n",
       "</style>\n",
       "<table border=\"1\" class=\"dataframe\">\n",
       "  <thead>\n",
       "    <tr style=\"text-align: right;\">\n",
       "      <th></th>\n",
       "      <th>image</th>\n",
       "      <th>MEL</th>\n",
       "      <th>NV</th>\n",
       "      <th>BCC</th>\n",
       "      <th>AKIEC</th>\n",
       "      <th>BKL</th>\n",
       "      <th>DF</th>\n",
       "      <th>VASC</th>\n",
       "      <th>Targets</th>\n",
       "    </tr>\n",
       "  </thead>\n",
       "  <tbody>\n",
       "    <tr>\n",
       "      <th>0</th>\n",
       "      <td>ISIC_0024306.jpg</td>\n",
       "      <td>0.0</td>\n",
       "      <td>1.0</td>\n",
       "      <td>0.0</td>\n",
       "      <td>0.0</td>\n",
       "      <td>0.0</td>\n",
       "      <td>0.0</td>\n",
       "      <td>0.0</td>\n",
       "      <td>NV</td>\n",
       "    </tr>\n",
       "    <tr>\n",
       "      <th>1</th>\n",
       "      <td>ISIC_0024307.jpg</td>\n",
       "      <td>0.0</td>\n",
       "      <td>1.0</td>\n",
       "      <td>0.0</td>\n",
       "      <td>0.0</td>\n",
       "      <td>0.0</td>\n",
       "      <td>0.0</td>\n",
       "      <td>0.0</td>\n",
       "      <td>NV</td>\n",
       "    </tr>\n",
       "    <tr>\n",
       "      <th>2</th>\n",
       "      <td>ISIC_0024308.jpg</td>\n",
       "      <td>0.0</td>\n",
       "      <td>1.0</td>\n",
       "      <td>0.0</td>\n",
       "      <td>0.0</td>\n",
       "      <td>0.0</td>\n",
       "      <td>0.0</td>\n",
       "      <td>0.0</td>\n",
       "      <td>NV</td>\n",
       "    </tr>\n",
       "    <tr>\n",
       "      <th>3</th>\n",
       "      <td>ISIC_0024309.jpg</td>\n",
       "      <td>0.0</td>\n",
       "      <td>1.0</td>\n",
       "      <td>0.0</td>\n",
       "      <td>0.0</td>\n",
       "      <td>0.0</td>\n",
       "      <td>0.0</td>\n",
       "      <td>0.0</td>\n",
       "      <td>NV</td>\n",
       "    </tr>\n",
       "    <tr>\n",
       "      <th>4</th>\n",
       "      <td>ISIC_0024310.jpg</td>\n",
       "      <td>1.0</td>\n",
       "      <td>0.0</td>\n",
       "      <td>0.0</td>\n",
       "      <td>0.0</td>\n",
       "      <td>0.0</td>\n",
       "      <td>0.0</td>\n",
       "      <td>0.0</td>\n",
       "      <td>MEL</td>\n",
       "    </tr>\n",
       "  </tbody>\n",
       "</table>\n",
       "</div>"
      ],
      "text/plain": [
       "              image  MEL   NV  BCC  AKIEC  BKL   DF  VASC Targets\n",
       "0  ISIC_0024306.jpg  0.0  1.0  0.0    0.0  0.0  0.0   0.0      NV\n",
       "1  ISIC_0024307.jpg  0.0  1.0  0.0    0.0  0.0  0.0   0.0      NV\n",
       "2  ISIC_0024308.jpg  0.0  1.0  0.0    0.0  0.0  0.0   0.0      NV\n",
       "3  ISIC_0024309.jpg  0.0  1.0  0.0    0.0  0.0  0.0   0.0      NV\n",
       "4  ISIC_0024310.jpg  1.0  0.0  0.0    0.0  0.0  0.0   0.0     MEL"
      ]
     },
     "execution_count": 5,
     "metadata": {
      "tags": []
     },
     "output_type": "execute_result"
    }
   ],
   "source": [
    "labels_target.head()"
   ]
  },
  {
   "cell_type": "code",
   "execution_count": 6,
   "metadata": {
    "colab": {
     "base_uri": "https://localhost:8080/"
    },
    "executionInfo": {
     "elapsed": 648,
     "status": "ok",
     "timestamp": 1608661615434,
     "user": {
      "displayName": "Derick Abreu Montagna",
      "photoUrl": "https://lh3.googleusercontent.com/a-/AOh14GiZtmA5z9Jc_2HmDIJI7YB80s22LyWv5aJ8r8fLTg=s64",
      "userId": "07365981113946664179"
     },
     "user_tz": 180
    },
    "id": "Eou4FtfdE2-S",
    "outputId": "a24af21d-773b-4025-c625-96b4843ad058"
   },
   "outputs": [
    {
     "name": "stdout",
     "output_type": "stream",
     "text": [
      "<class 'pandas.core.frame.DataFrame'>\n",
      "RangeIndex: 10015 entries, 0 to 10014\n",
      "Data columns (total 9 columns):\n",
      " #   Column   Non-Null Count  Dtype  \n",
      "---  ------   --------------  -----  \n",
      " 0   image    10015 non-null  object \n",
      " 1   MEL      10015 non-null  float64\n",
      " 2   NV       10015 non-null  float64\n",
      " 3   BCC      10015 non-null  float64\n",
      " 4   AKIEC    10015 non-null  float64\n",
      " 5   BKL      10015 non-null  float64\n",
      " 6   DF       10015 non-null  float64\n",
      " 7   VASC     10015 non-null  float64\n",
      " 8   Targets  10015 non-null  object \n",
      "dtypes: float64(7), object(2)\n",
      "memory usage: 704.3+ KB\n"
     ]
    }
   ],
   "source": [
    "labels_target.info()"
   ]
  },
  {
   "cell_type": "code",
   "execution_count": 11,
   "metadata": {
    "executionInfo": {
     "elapsed": 646,
     "status": "ok",
     "timestamp": 1608661721946,
     "user": {
      "displayName": "Derick Abreu Montagna",
      "photoUrl": "https://lh3.googleusercontent.com/a-/AOh14GiZtmA5z9Jc_2HmDIJI7YB80s22LyWv5aJ8r8fLTg=s64",
      "userId": "07365981113946664179"
     },
     "user_tz": 180
    },
    "id": "wUbOhRIVE5zF"
   },
   "outputs": [],
   "source": [
    "counts = labels_target.sum()"
   ]
  },
  {
   "cell_type": "code",
   "execution_count": 13,
   "metadata": {
    "colab": {
     "base_uri": "https://localhost:8080/"
    },
    "executionInfo": {
     "elapsed": 628,
     "status": "ok",
     "timestamp": 1608661735775,
     "user": {
      "displayName": "Derick Abreu Montagna",
      "photoUrl": "https://lh3.googleusercontent.com/a-/AOh14GiZtmA5z9Jc_2HmDIJI7YB80s22LyWv5aJ8r8fLTg=s64",
      "userId": "07365981113946664179"
     },
     "user_tz": 180
    },
    "id": "K2M8RJKltMDw",
    "outputId": "537d8ba6-cf7f-44cb-a99a-3e8882dd60fb"
   },
   "outputs": [
    {
     "data": {
      "text/plain": [
       "Index(['image', 'MEL', 'NV', 'BCC', 'AKIEC', 'BKL', 'DF', 'VASC', 'Targets'], dtype='object')"
      ]
     },
     "execution_count": 13,
     "metadata": {
      "tags": []
     },
     "output_type": "execute_result"
    }
   ],
   "source": [
    "counts.index"
   ]
  },
  {
   "cell_type": "code",
   "execution_count": 14,
   "metadata": {
    "colab": {
     "base_uri": "https://localhost:8080/"
    },
    "executionInfo": {
     "elapsed": 737,
     "status": "ok",
     "timestamp": 1608661751615,
     "user": {
      "displayName": "Derick Abreu Montagna",
      "photoUrl": "https://lh3.googleusercontent.com/a-/AOh14GiZtmA5z9Jc_2HmDIJI7YB80s22LyWv5aJ8r8fLTg=s64",
      "userId": "07365981113946664179"
     },
     "user_tz": 180
    },
    "id": "eYc4sx0WtfAS",
    "outputId": "33990e59-e8b1-4f61-b36e-186d113e9a87"
   },
   "outputs": [
    {
     "data": {
      "text/plain": [
       "pandas.core.series.Series"
      ]
     },
     "execution_count": 14,
     "metadata": {
      "tags": []
     },
     "output_type": "execute_result"
    }
   ],
   "source": [
    "type(counts)"
   ]
  },
  {
   "cell_type": "code",
   "execution_count": 15,
   "metadata": {
    "executionInfo": {
     "elapsed": 602,
     "status": "ok",
     "timestamp": 1608661808889,
     "user": {
      "displayName": "Derick Abreu Montagna",
      "photoUrl": "https://lh3.googleusercontent.com/a-/AOh14GiZtmA5z9Jc_2HmDIJI7YB80s22LyWv5aJ8r8fLTg=s64",
      "userId": "07365981113946664179"
     },
     "user_tz": 180
    },
    "id": "o5srb1sJtlQD"
   },
   "outputs": [],
   "source": [
    "counts.drop(['image','Targets' ], inplace=True)"
   ]
  },
  {
   "cell_type": "code",
   "execution_count": 16,
   "metadata": {
    "colab": {
     "base_uri": "https://localhost:8080/"
    },
    "executionInfo": {
     "elapsed": 727,
     "status": "ok",
     "timestamp": 1608661812257,
     "user": {
      "displayName": "Derick Abreu Montagna",
      "photoUrl": "https://lh3.googleusercontent.com/a-/AOh14GiZtmA5z9Jc_2HmDIJI7YB80s22LyWv5aJ8r8fLTg=s64",
      "userId": "07365981113946664179"
     },
     "user_tz": 180
    },
    "id": "LYVjyzVwtzQu",
    "outputId": "6f7fff11-0530-439e-b4cb-405a09369555"
   },
   "outputs": [
    {
     "data": {
      "text/plain": [
       "MEL      1113\n",
       "NV       6705\n",
       "BCC       514\n",
       "AKIEC     327\n",
       "BKL      1099\n",
       "DF        115\n",
       "VASC      142\n",
       "dtype: object"
      ]
     },
     "execution_count": 16,
     "metadata": {
      "tags": []
     },
     "output_type": "execute_result"
    }
   ],
   "source": [
    "counts"
   ]
  },
  {
   "cell_type": "code",
   "execution_count": 18,
   "metadata": {
    "colab": {
     "base_uri": "https://localhost:8080/"
    },
    "executionInfo": {
     "elapsed": 1026,
     "status": "ok",
     "timestamp": 1608663308464,
     "user": {
      "displayName": "Derick Abreu Montagna",
      "photoUrl": "https://lh3.googleusercontent.com/a-/AOh14GiZtmA5z9Jc_2HmDIJI7YB80s22LyWv5aJ8r8fLTg=s64",
      "userId": "07365981113946664179"
     },
     "user_tz": 180
    },
    "id": "shXSnBNwzd9X",
    "outputId": "fc010fed-9c12-46d9-8288-25d4eb100053"
   },
   "outputs": [
    {
     "data": {
      "text/plain": [
       "6705.0"
      ]
     },
     "execution_count": 18,
     "metadata": {
      "tags": []
     },
     "output_type": "execute_result"
    }
   ],
   "source": [
    "counts.max()"
   ]
  },
  {
   "cell_type": "code",
   "execution_count": 19,
   "metadata": {
    "colab": {
     "base_uri": "https://localhost:8080/"
    },
    "executionInfo": {
     "elapsed": 702,
     "status": "ok",
     "timestamp": 1608663318442,
     "user": {
      "displayName": "Derick Abreu Montagna",
      "photoUrl": "https://lh3.googleusercontent.com/a-/AOh14GiZtmA5z9Jc_2HmDIJI7YB80s22LyWv5aJ8r8fLTg=s64",
      "userId": "07365981113946664179"
     },
     "user_tz": 180
    },
    "id": "HEs-K-c-zivx",
    "outputId": "470b33da-ca78-4166-8b6a-b96a4298ec88"
   },
   "outputs": [
    {
     "data": {
      "text/plain": [
       "1113.0"
      ]
     },
     "execution_count": 19,
     "metadata": {
      "tags": []
     },
     "output_type": "execute_result"
    }
   ],
   "source": [
    "counts['MEL']"
   ]
  },
  {
   "cell_type": "code",
   "execution_count": 27,
   "metadata": {
    "colab": {
     "base_uri": "https://localhost:8080/"
    },
    "executionInfo": {
     "elapsed": 730,
     "status": "ok",
     "timestamp": 1608663545438,
     "user": {
      "displayName": "Derick Abreu Montagna",
      "photoUrl": "https://lh3.googleusercontent.com/a-/AOh14GiZtmA5z9Jc_2HmDIJI7YB80s22LyWv5aJ8r8fLTg=s64",
      "userId": "07365981113946664179"
     },
     "user_tz": 180
    },
    "id": "udYrlY0t0Uee",
    "outputId": "8286dc39-e4ec-4008-8595-f04667a7ca29"
   },
   "outputs": [
    {
     "data": {
      "text/plain": [
       "MEL      11.1133\n",
       "NV       66.9496\n",
       "BCC       5.1323\n",
       "AKIEC     3.2651\n",
       "BKL      10.9735\n",
       "DF       1.14828\n",
       "VASC     1.41787\n",
       "dtype: object"
      ]
     },
     "execution_count": 27,
     "metadata": {
      "tags": []
     },
     "output_type": "execute_result"
    }
   ],
   "source": [
    "(counts/counts.sum())*100"
   ]
  },
  {
   "cell_type": "code",
   "execution_count": 24,
   "metadata": {
    "executionInfo": {
     "elapsed": 620,
     "status": "ok",
     "timestamp": 1608663505884,
     "user": {
      "displayName": "Derick Abreu Montagna",
      "photoUrl": "https://lh3.googleusercontent.com/a-/AOh14GiZtmA5z9Jc_2HmDIJI7YB80s22LyWv5aJ8r8fLTg=s64",
      "userId": "07365981113946664179"
     },
     "user_tz": 180
    },
    "id": "sr63FWMVt0Dn"
   },
   "outputs": [],
   "source": [
    "weights = {'MEL': counts.max()/counts['MEL'], 'NV': counts.max()/counts['NV'],\r\n",
    "           'BCC': counts.max()/counts['BCC'], 'AKIEC': counts.max()/counts['AKIEC'],\r\n",
    "           'BKL': counts.max()/counts['BKL'], 'DF': counts.max()/counts['DF'],\r\n",
    "           'VASC': counts.max()/counts['VASC']}"
   ]
  },
  {
   "cell_type": "code",
   "execution_count": 25,
   "metadata": {
    "colab": {
     "base_uri": "https://localhost:8080/"
    },
    "executionInfo": {
     "elapsed": 651,
     "status": "ok",
     "timestamp": 1608663509841,
     "user": {
      "displayName": "Derick Abreu Montagna",
      "photoUrl": "https://lh3.googleusercontent.com/a-/AOh14GiZtmA5z9Jc_2HmDIJI7YB80s22LyWv5aJ8r8fLTg=s64",
      "userId": "07365981113946664179"
     },
     "user_tz": 180
    },
    "id": "yZF1vQ3Bz4nn",
    "outputId": "fb75b1e2-750d-43e4-86cc-ac79b9c42c39"
   },
   "outputs": [
    {
     "data": {
      "text/plain": [
       "{'AKIEC': 20.504587155963304,\n",
       " 'BCC': 13.044747081712062,\n",
       " 'BKL': 6.101000909918107,\n",
       " 'DF': 58.30434782608695,\n",
       " 'MEL': 6.024258760107816,\n",
       " 'NV': 1.0,\n",
       " 'VASC': 47.21830985915493}"
      ]
     },
     "execution_count": 25,
     "metadata": {
      "tags": []
     },
     "output_type": "execute_result"
    }
   ],
   "source": [
    "weights"
   ]
  }
 ],
 "metadata": {
  "colab": {
   "authorship_tag": "ABX9TyPc+Ehm8IlhmSjfPwBsZ1mm",
   "collapsed_sections": [],
   "mount_file_id": "1rxA3t3z4HTVRuFnBf9-pcuUGAQfsQCPH",
   "name": "Arrumando o CSV.ipynb",
   "provenance": []
  },
  "kernelspec": {
   "display_name": "Python 3",
   "language": "python",
   "name": "python3"
  },
  "language_info": {
   "codemirror_mode": {
    "name": "ipython",
    "version": 3
   },
   "file_extension": ".py",
   "mimetype": "text/x-python",
   "name": "python",
   "nbconvert_exporter": "python",
   "pygments_lexer": "ipython3",
   "version": "3.8.5"
  }
 },
 "nbformat": 4,
 "nbformat_minor": 4
}
