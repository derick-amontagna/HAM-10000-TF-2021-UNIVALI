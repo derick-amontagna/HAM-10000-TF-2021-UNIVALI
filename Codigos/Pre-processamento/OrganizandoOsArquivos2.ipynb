{
 "cells": [
  {
   "cell_type": "code",
   "execution_count": 43,
   "source": [
    "import numpy as np\r\n",
    "import pandas as pd\r\n",
    "import os"
   ],
   "outputs": [],
   "metadata": {}
  },
  {
   "cell_type": "markdown",
   "source": [
    "# Pre-processamento do dataset"
   ],
   "metadata": {}
  },
  {
   "cell_type": "code",
   "execution_count": 44,
   "source": [
    "df_data = pd.read_csv(r'C:\\Users\\doxda\\Downloads\\Validation\\ISIC2018_Task3_Validation_GroundTruth\\ISIC2018_Task3_Validation_GroundTruth.csv')"
   ],
   "outputs": [],
   "metadata": {}
  },
  {
   "cell_type": "code",
   "execution_count": 45,
   "source": [
    "df_data.set_index('image',inplace=True)\r\n",
    "\r\n",
    "df_data = df_data[df_data==1].stack().reset_index().drop(0,1)\r\n",
    "df_data = df_data.rename(columns={'level_1': 'dx'})"
   ],
   "outputs": [],
   "metadata": {}
  },
  {
   "cell_type": "code",
   "execution_count": 46,
   "source": [
    "df_data.iloc[:,0] = df_data.iloc[:,0] + '.jpg'"
   ],
   "outputs": [],
   "metadata": {}
  },
  {
   "cell_type": "code",
   "execution_count": 47,
   "source": [
    "df_data.set_index('image',inplace=True)"
   ],
   "outputs": [],
   "metadata": {}
  },
  {
   "cell_type": "code",
   "execution_count": 54,
   "source": [
    "def criando_diretorios ():\r\n",
    "    base_dir = 'C:\\\\Users\\\\doxda\\\\Downloads\\\\Validation'\r\n",
    "    #os.mkdir(base_dir)\r\n",
    "\r\n",
    "    # train_dir\r\n",
    "    train_dir = os.path.join(base_dir, 'ISIC2018_Task3_Validation_Input_Modified_Split')\r\n",
    "    os.mkdir(train_dir)\r\n",
    "\r\n",
    "    \r\n",
    "        # create new folders inside train_dir\r\n",
    "    nv = os.path.join(train_dir, 'nv')\r\n",
    "    os.mkdir(nv)\r\n",
    "    mel = os.path.join(train_dir, 'mel')\r\n",
    "    os.mkdir(mel)\r\n",
    "    bkl = os.path.join(train_dir, 'bkl')\r\n",
    "    os.mkdir(bkl)\r\n",
    "    bcc = os.path.join(train_dir, 'bcc')\r\n",
    "    os.mkdir(bcc)\r\n",
    "    akiec = os.path.join(train_dir, 'akiec')\r\n",
    "    os.mkdir(akiec)\r\n",
    "    vasc = os.path.join(train_dir, 'vasc')\r\n",
    "    os.mkdir(vasc)\r\n",
    "    df = os.path.join(train_dir, 'df')\r\n",
    "    os.mkdir(df)\r\n",
    "\r\n",
    "    \r\n",
    "    return train_dir"
   ],
   "outputs": [],
   "metadata": {}
  },
  {
   "cell_type": "code",
   "execution_count": 55,
   "source": [
    "import itertools\r\n",
    "import shutil\r\n",
    "\r\n",
    "\r\n",
    "image_dir = criando_diretorios ()\r\n",
    "\r\n",
    "\r\n",
    "image_list = list(df_data.index)\r\n",
    "    \r\n",
    "for image in image_list:\r\n",
    "        \r\n",
    "    label = df_data.loc[image, 'dx']\r\n",
    "    src = os.path.join('C:\\\\Users\\\\doxda\\\\Downloads\\\\Validation\\\\ISIC2018_Task3_Validation_Input_Modified\\\\', image)\r\n",
    "    dst = os.path.join(image_dir, label, image)     \r\n",
    "    shutil.copyfile(src, dst)"
   ],
   "outputs": [],
   "metadata": {}
  },
  {
   "cell_type": "code",
   "execution_count": 2,
   "source": [
    "classes = ['akiec', 'bcc', 'bkl', 'df', 'mel', 'nv', 'vasc']\r\n",
    "import os\r\n",
    "for classe in classes:\r\n",
    "\r\n",
    "    os.getcwd()\r\n",
    "    collection = 'C:/Users/doxda/Downloads/Validation/ISIC2018_Task3_Validation_Input_Modified_Split/'+str(classe)\r\n",
    "    for i, filename in enumerate(os.listdir(collection)):\r\n",
    "        i += 1\r\n",
    "        os.rename('C:/Users/doxda/Downloads/Validation/ISIC2018_Task3_Validation_Input_Modified_Split/'+str(classe)+'/'+ filename, \r\n",
    "                  'C:/Users/doxda/Downloads/Validation/ISIC2018_Task3_Validation_Input_Modified_Split/'+str(classe)+'/'+str(classe)+'_'+str(i)+'.jpg')"
   ],
   "outputs": [],
   "metadata": {}
  }
 ],
 "metadata": {
  "kernelspec": {
   "name": "python3",
   "display_name": "Python 3.8.5 64-bit ('ttc': conda)"
  },
  "language_info": {
   "codemirror_mode": {
    "name": "ipython",
    "version": 3
   },
   "file_extension": ".py",
   "mimetype": "text/x-python",
   "name": "python",
   "nbconvert_exporter": "python",
   "pygments_lexer": "ipython3",
   "version": "3.8.5"
  },
  "interpreter": {
   "hash": "2804296b1c3699b101a161801cbc5ca58454cb730ab911950fd2e1a733491e07"
  }
 },
 "nbformat": 4,
 "nbformat_minor": 5
}