{
 "cells": [
  {
   "cell_type": "code",
   "execution_count": 4,
   "metadata": {},
   "outputs": [],
   "source": [
    "import cv2\n",
    "import numpy as np\n",
    "from glob import glob\n",
    "from tqdm import tqdm\n",
    "import matplotlib.pyplot as plt\n",
    "import os"
   ]
  },
  {
   "cell_type": "code",
   "execution_count": 5,
   "metadata": {},
   "outputs": [],
   "source": [
    "def shade_of_gray_cc(img, power=6, gamma=None):\n",
    "    \"\"\"\n",
    "    img (numpy array): the original image with format of (h, w, c)\n",
    "    power (int): the degree of norm, 6 is used in reference paper\n",
    "    gamma (float): the value of gamma correction, 2.2 is used in reference paper\n",
    "    \"\"\"\n",
    "    img_dtype = img.dtype\n",
    "\n",
    "    if gamma is not None:\n",
    "        img = img.astype('uint8')\n",
    "        look_up_table = np.ones((256,1), dtype='uint8') * 0\n",
    "        for i in range(256):\n",
    "            look_up_table[i][0] = 255 * pow(i/255, 1/gamma)\n",
    "        img = cv2.LUT(img, look_up_table)\n",
    "\n",
    "    img = img.astype('float32')\n",
    "    img_power = np.power(img, power)\n",
    "    rgb_vec = np.power(np.mean(img_power, (0,1)), 1/power)\n",
    "    rgb_norm = np.sqrt(np.sum(np.power(rgb_vec, 2.0)))\n",
    "    rgb_vec = rgb_vec/rgb_norm\n",
    "    rgb_vec = 1/(rgb_vec*np.sqrt(3))\n",
    "    img = np.multiply(img, rgb_vec)\n",
    "\n",
    "    # Andrew Anikin suggestion\n",
    "    img = np.clip(img, a_min=0, a_max=255)\n",
    "    \n",
    "    return img.astype(img_dtype)"
   ]
  },
  {
   "cell_type": "code",
   "execution_count": 6,
   "metadata": {},
   "outputs": [],
   "source": [
    "def apply_cc (img_paths, output_folder_path, resize=None):\n",
    "    \n",
    "    if not os.path.isdir(output_folder_path):\n",
    "        os.mkdir(output_folder_path)    \n",
    "\n",
    "    with tqdm(total=len(img_paths), ascii=True, ncols=100) as t:\n",
    "        \n",
    "        for img_path in img_paths:\n",
    "            img_name = img_path.split('/')[-1]\n",
    "            img_ = cv2.imread(img_path, cv2.IMREAD_COLOR)\n",
    "            if resize is not None:\n",
    "                img_ = cv2.resize(img_, resize, cv2.INTER_AREA)\n",
    "            np_img = shade_of_gray_cc (img_)            \n",
    "            cv2.imwrite(os.path.join(output_folder_path, img_name.split('.')[0] + '.jpg'), np_img)\n",
    "            t.update()"
   ]
  },
  {
   "cell_type": "code",
   "execution_count": 7,
   "metadata": {},
   "outputs": [],
   "source": [
    "img_train_paths = glob(r'C:\\Users\\doxda\\Downloads\\Validation\\ISIC2018_Task3_Validation_Input\\*.jpg')"
   ]
  },
  {
   "cell_type": "code",
   "execution_count": 8,
   "metadata": {},
   "outputs": [
    {
     "name": "stderr",
     "output_type": "stream",
     "text": [
      "100%|#############################################################| 193/193 [00:25<00:00,  7.51it/s]\n"
     ]
    }
   ],
   "source": [
    "apply_cc(img_train_paths, r'C:\\Users\\doxda\\Downloads\\Validation\\ISIC2018_Task3_Validation_Input_Modified')"
   ]
  },
  {
   "cell_type": "code",
   "execution_count": null,
   "metadata": {},
   "outputs": [],
   "source": []
  }
 ],
 "metadata": {
  "interpreter": {
   "hash": "2804296b1c3699b101a161801cbc5ca58454cb730ab911950fd2e1a733491e07"
  },
  "kernelspec": {
   "display_name": "Python 3.8.5 64-bit ('ttc': conda)",
   "name": "python3"
  },
  "language_info": {
   "codemirror_mode": {
    "name": "ipython",
    "version": 3
   },
   "file_extension": ".py",
   "mimetype": "text/x-python",
   "name": "python",
   "nbconvert_exporter": "python",
   "pygments_lexer": "ipython3",
   "version": "3.8.5"
  }
 },
 "nbformat": 4,
 "nbformat_minor": 4
}
