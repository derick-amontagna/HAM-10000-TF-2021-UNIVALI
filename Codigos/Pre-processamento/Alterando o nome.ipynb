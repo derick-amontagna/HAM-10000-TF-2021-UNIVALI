{
 "cells": [
  {
   "cell_type": "code",
   "execution_count": 9,
   "id": "spread-flash",
   "metadata": {},
   "outputs": [],
   "source": [
    "import os\n",
    "os.getcwd()\n",
    "collection = 'C:/Users/doxda/Downloads/Dados-TCC-Melo/ISIC2018_Task3_Training_Input_Modified_Split/akiec'\n",
    "for i, filename in enumerate(os.listdir(collection)):\n",
    "    i += 1\n",
    "    os.rename('C:/Users/doxda/Downloads/Dados-TCC-Melo/ISIC2018_Task3_Training_Input_Modified_Split/akiec/' + filename, \n",
    "              'C:/Users/doxda/Downloads/Dados-TCC-Melo/ISIC2018_Task3_Training_Input_Modified_Split/akiec/akiec_' + str(i) + '.jpg')"
   ]
  },
  {
   "cell_type": "code",
   "execution_count": 10,
   "id": "collectible-concentrate",
   "metadata": {},
   "outputs": [],
   "source": [
    "import os\n",
    "os.getcwd()\n",
    "collection = 'C:/Users/doxda/Downloads/Dados-TCC-Melo/ISIC2018_Task3_Training_Input_Modified_Split/bcc'\n",
    "for i, filename in enumerate(os.listdir(collection)):\n",
    "    i += 1\n",
    "    os.rename('C:/Users/doxda/Downloads/Dados-TCC-Melo/ISIC2018_Task3_Training_Input_Modified_Split/bcc/' + filename, \n",
    "              'C:/Users/doxda/Downloads/Dados-TCC-Melo/ISIC2018_Task3_Training_Input_Modified_Split/bcc/bcc_' + str(i) + '.jpg')"
   ]
  },
  {
   "cell_type": "code",
   "execution_count": 11,
   "id": "aggressive-range",
   "metadata": {},
   "outputs": [],
   "source": [
    "import os\n",
    "os.getcwd()\n",
    "collection = 'C:/Users/doxda/Downloads/Dados-TCC-Melo/ISIC2018_Task3_Training_Input_Modified_Split/bkl'\n",
    "for i, filename in enumerate(os.listdir(collection)):\n",
    "    i += 1\n",
    "    os.rename('C:/Users/doxda/Downloads/Dados-TCC-Melo/ISIC2018_Task3_Training_Input_Modified_Split/bkl/' + filename, \n",
    "              'C:/Users/doxda/Downloads/Dados-TCC-Melo/ISIC2018_Task3_Training_Input_Modified_Split/bkl/bkl_' + str(i) + '.jpg')"
   ]
  },
  {
   "cell_type": "code",
   "execution_count": 12,
   "id": "amateur-conducting",
   "metadata": {},
   "outputs": [],
   "source": [
    "import os\n",
    "os.getcwd()\n",
    "collection = 'C:/Users/doxda/Downloads/Dados-TCC-Melo/ISIC2018_Task3_Training_Input_Modified_Split/df'\n",
    "for i, filename in enumerate(os.listdir(collection)):\n",
    "    i += 1\n",
    "    os.rename('C:/Users/doxda/Downloads/Dados-TCC-Melo/ISIC2018_Task3_Training_Input_Modified_Split/df/' + filename, \n",
    "              'C:/Users/doxda/Downloads/Dados-TCC-Melo/ISIC2018_Task3_Training_Input_Modified_Split/df/df_' + str(i) + '.jpg')"
   ]
  },
  {
   "cell_type": "code",
   "execution_count": 13,
   "id": "suitable-campus",
   "metadata": {},
   "outputs": [],
   "source": [
    "import os\n",
    "os.getcwd()\n",
    "collection = 'C:/Users/doxda/Downloads/Dados-TCC-Melo/ISIC2018_Task3_Training_Input_Modified_Split/mel'\n",
    "for i, filename in enumerate(os.listdir(collection)):\n",
    "    i += 1\n",
    "    os.rename('C:/Users/doxda/Downloads/Dados-TCC-Melo/ISIC2018_Task3_Training_Input_Modified_Split/mel/' + filename, \n",
    "              'C:/Users/doxda/Downloads/Dados-TCC-Melo/ISIC2018_Task3_Training_Input_Modified_Split/mel/mel_' + str(i) + '.jpg')"
   ]
  },
  {
   "cell_type": "code",
   "execution_count": 14,
   "id": "stretch-bargain",
   "metadata": {},
   "outputs": [],
   "source": [
    "import os\n",
    "os.getcwd()\n",
    "collection = 'C:/Users/doxda/Downloads/Dados-TCC-Melo/ISIC2018_Task3_Training_Input_Modified_Split/nv'\n",
    "for i, filename in enumerate(os.listdir(collection)):\n",
    "    i += 1\n",
    "    os.rename('C:/Users/doxda/Downloads/Dados-TCC-Melo/ISIC2018_Task3_Training_Input_Modified_Split/nv/' + filename, \n",
    "              'C:/Users/doxda/Downloads/Dados-TCC-Melo/ISIC2018_Task3_Training_Input_Modified_Split/nv/nv_' + str(i) + '.jpg')"
   ]
  },
  {
   "cell_type": "code",
   "execution_count": 15,
   "id": "apart-aruba",
   "metadata": {},
   "outputs": [],
   "source": [
    "import os\n",
    "os.getcwd()\n",
    "collection = 'C:/Users/doxda/Downloads/Dados-TCC-Melo/ISIC2018_Task3_Training_Input_Modified_Split/vasc'\n",
    "for i, filename in enumerate(os.listdir(collection)):\n",
    "    i += 1\n",
    "    os.rename('C:/Users/doxda/Downloads/Dados-TCC-Melo/ISIC2018_Task3_Training_Input_Modified_Split/vasc/' + filename, \n",
    "              'C:/Users/doxda/Downloads/Dados-TCC-Melo/ISIC2018_Task3_Training_Input_Modified_Split/vasc/vasc_' + str(i) + '.jpg')"
   ]
  },
  {
   "cell_type": "code",
   "execution_count": null,
   "id": "matched-gross",
   "metadata": {},
   "outputs": [],
   "source": []
  }
 ],
 "metadata": {
  "kernelspec": {
   "display_name": "Python 3",
   "language": "python",
   "name": "python3"
  },
  "language_info": {
   "codemirror_mode": {
    "name": "ipython",
    "version": 3
   },
   "file_extension": ".py",
   "mimetype": "text/x-python",
   "name": "python",
   "nbconvert_exporter": "python",
   "pygments_lexer": "ipython3",
   "version": "3.8.5"
  }
 },
 "nbformat": 4,
 "nbformat_minor": 5
}
